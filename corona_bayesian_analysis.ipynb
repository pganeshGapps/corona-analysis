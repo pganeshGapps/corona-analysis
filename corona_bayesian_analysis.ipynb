{
 "cells": [
  {
   "cell_type": "code",
   "execution_count": 1,
   "metadata": {},
   "outputs": [],
   "source": [
    "import matplotlib.pyplot as plt\n",
    "%matplotlib inline\n",
    "import numpy as np"
   ]
  },
  {
   "cell_type": "code",
   "execution_count": 2,
   "metadata": {},
   "outputs": [
    {
     "name": "stdout",
     "output_type": "stream",
     "text": [
      "(0.006493506493506499, 0.4130434782608696, 0.5869565217391304)\n",
      "(0.005813953488372097, 0.6785714285714285, 0.3214285714285715)\n"
     ]
    }
   ],
   "source": [
    "a = 0.1 \n",
    "b = 0.95 #Sensitivity\n",
    "c = 0.85 #Specificity\n",
    "\n",
    "def get_probabilities(a,b,c):\n",
    "    p1 = (a-a*b)/(a+c-a*b-a*c) #Part I = P(H/E̅)\n",
    "    p2 = a*b/(a*b+a*c-a-c+1) #PPV = P(H/E)\n",
    "    p3 = 1-p2 #Part II = P(H̅/E)\n",
    "    return p1,p2,p3\n",
    "\n",
    "print(get_probabilities(a,b,c))\n",
    "print(get_probabilities(a,b,c=b))"
   ]
  },
  {
   "cell_type": "code",
   "execution_count": 7,
   "metadata": {},
   "outputs": [
    {
     "name": "stdout",
     "output_type": "stream",
     "text": [
      "Out of  100000  negative test results, possible number of corona carriers set free =  581.3953488372098\n"
     ]
    }
   ],
   "source": [
    "PER_ = 100000\n",
    "num_corona_carriers = get_probabilities(a=0.1,b=0.95,c=0.95)[0]*PER_ #_per_lakh negative test results\n",
    "print(\"Out of \",PER_,\" negative test results, possible number of corona carriers set free = \",num_corona_carriers)"
   ]
  },
  {
   "cell_type": "code",
   "execution_count": 8,
   "metadata": {},
   "outputs": [
    {
     "name": "stdout",
     "output_type": "stream",
     "text": [
      "Even if Alice's test results are positive, there are  32.14285714285715% chances that he doesn't have COVID-19 infection.\n"
     ]
    }
   ],
   "source": [
    "\n",
    "print(\"Even if Alice's test results are positive, there are \",str(100*get_probabilities(a=0.1,b=0.95,c=0.95)[2])+\"% chances that he doesn't have COVID-19 infection.\")"
   ]
  },
  {
   "cell_type": "code",
   "execution_count": null,
   "metadata": {},
   "outputs": [],
   "source": []
  },
  {
   "cell_type": "code",
   "execution_count": null,
   "metadata": {},
   "outputs": [],
   "source": []
  },
  {
   "cell_type": "markdown",
   "metadata": {},
   "source": [
    "'''\n",
    "**Assessing impacts of improving Sensitivity & Specificity**\n",
    "'''"
   ]
  },
  {
   "cell_type": "code",
   "execution_count": 5,
   "metadata": {},
   "outputs": [
    {
     "data": {
      "text/plain": [
       "<matplotlib.legend.Legend at 0x27dbfcb8c18>"
      ]
     },
     "execution_count": 5,
     "metadata": {},
     "output_type": "execute_result"
    },
    {
     "data": {
      "image/png": "[encoded data removed]",
      "text/plain": [
       "<Figure size 432x288 with 1 Axes>"
      ]
     },
     "metadata": {},
     "output_type": "display_data"
    }
   ],
   "source": [
    "#Effect of Sensitivity on chances of not having corona even if test results are positive\n",
    "a = 0.1 \n",
    "b = 0.95 #Sensitivity\n",
    "c = 0.85 #Specificity\n",
    "\n",
    "X = []\n",
    "Y1 = []\n",
    "Y2 = []\n",
    "for bi in np.arange(0.85,0.99,0.01):\n",
    "    b = bi\n",
    "    p1 = (a-a*b)/(a+c-a*b-a*c)\n",
    "    p2 = a*b/(a*b+a*c-a-c+1) \n",
    "    p3 = 1-p2\n",
    "\n",
    "    X.append(bi)\n",
    "    Y1.append(p2)\n",
    "    Y2.append(p3)\n",
    "\n",
    "plt.figure()\n",
    "plt.xlabel(\"Sensitivity\")\n",
    "plt.plot(X,Y1,label=\"P(H/E)\")\n",
    "plt.plot(X,Y2,label=\"P(H̅/E)\")\n",
    "plt.legend()"
   ]
  },
  {
   "cell_type": "markdown",
   "metadata": {},
   "source": [
    "'''\n",
    "**Observations from above Plot:**\n",
    "\n",
    "As sensitvity increases, chances for test results being correct increases.That is, it becomes more accurate with increasing Specificity.\n",
    "'''"
   ]
  },
  {
   "cell_type": "code",
   "execution_count": null,
   "metadata": {},
   "outputs": [],
   "source": []
  },
  {
   "cell_type": "code",
   "execution_count": 6,
   "metadata": {},
   "outputs": [
    {
     "data": {
      "text/plain": [
       "<matplotlib.legend.Legend at 0x27dbfd86be0>"
      ]
     },
     "execution_count": 6,
     "metadata": {},
     "output_type": "execute_result"
    },
    {
     "data": {
      "image/png": "[encoded data removed]",
      "text/plain": [
       "<Figure size 432x288 with 1 Axes>"
      ]
     },
     "metadata": {},
     "output_type": "display_data"
    }
   ],
   "source": [
    "#Effect of Specificity on chances of not having corona even if test results are positive\n",
    "a = 0.1 \n",
    "b = 0.95\n",
    "c = 0.95\n",
    "\n",
    "X = []\n",
    "Y1 = []\n",
    "Y2 = []\n",
    "for ci in np.arange(0.65,0.85,0.01):\n",
    "    c = ci\n",
    "    p1 = (a-a*b)/(a+c-a*b-a*c)\n",
    "    p2 = a*b/(a*b+a*c-a-c+1) \n",
    "    p3 = 1-p2\n",
    "\n",
    "    X.append(ci)\n",
    "    Y1.append(p2)\n",
    "    Y2.append(p3)\n",
    "\n",
    "plt.figure()\n",
    "plt.xlabel(\"Specificity\")\n",
    "plt.plot(X,Y1,label=\"P(H/E)\")\n",
    "plt.plot(X,Y2,label=\"P(H̅/E)\")\n",
    "plt.legend()"
   ]
  },
  {
   "cell_type": "markdown",
   "metadata": {},
   "source": [
    "'''\n",
    "**Observations from above Plot:**\n",
    "\n",
    "As specificity increases, chances for test results being correct increases.That is, it becomes more accurate with increasing Specificity.\n",
    "'''"
   ]
  },
  {
   "cell_type": "code",
   "execution_count": null,
   "metadata": {},
   "outputs": [],
   "source": []
  }
 ],
 "metadata": {
  "kernelspec": {
   "display_name": "Python 3",
   "language": "python",
   "name": "python3"
  },
  "language_info": {
   "codemirror_mode": {
    "name": "ipython",
    "version": 3
   },
   "file_extension": ".py",
   "mimetype": "text/x-python",
   "name": "python",
   "nbconvert_exporter": "python",
   "pygments_lexer": "ipython3",
   "version": "3.6.5"
  }
 },
 "nbformat": 4,
 "nbformat_minor": 2
}
